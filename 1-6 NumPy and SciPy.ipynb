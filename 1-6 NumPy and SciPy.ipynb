{
 "cells": [
  {
   "cell_type": "code",
   "execution_count": 1,
   "metadata": {},
   "outputs": [],
   "source": [
    "import numpy as np\n",
    "import matplotlib.pyplot as plt\n",
    "import scipy, pandas\n",
    "import librosa"
   ]
  },
  {
   "cell_type": "code",
   "execution_count": 2,
   "metadata": {},
   "outputs": [
    {
     "name": "stdout",
     "output_type": "stream",
     "text": [
      "[[ 1.  1.]\n",
      " [ 1.  1.]\n",
      " [ 1.  1.]\n",
      " [ 1.  1.]\n",
      " [ 1.  1.]]\n"
     ]
    }
   ],
   "source": [
    "print np.ones((5,2))"
   ]
  },
  {
   "cell_type": "code",
   "execution_count": 3,
   "metadata": {},
   "outputs": [
    {
     "name": "stdout",
     "output_type": "stream",
     "text": [
      "[-1.96197402 -0.57141135  0.09142615  0.54855199 -1.47844704]\n"
     ]
    }
   ],
   "source": [
    "print scipy.randn(5)"
   ]
  },
  {
   "cell_type": "code",
   "execution_count": 5,
   "metadata": {},
   "outputs": [
    {
     "name": "stdout",
     "output_type": "stream",
     "text": [
      "[-0.53534461  0.16884029  0.79495902  2.35367023 -0.82741767]\n",
      "[ 1.  1.  1.  1.  1.]\n",
      "1.9547072639\n"
     ]
    }
   ],
   "source": [
    "x = scipy.randn(5)\n",
    "y = np.ones(5)\n",
    "print x\n",
    "print y\n",
    "print np.dot(x, y)"
   ]
  },
  {
   "cell_type": "code",
   "execution_count": 6,
   "metadata": {},
   "outputs": [
    {
     "name": "stdout",
     "output_type": "stream",
     "text": [
      "[ True  True  True  True  True False False False False False]\n",
      "[ True False False False False False False False False False]\n"
     ]
    }
   ],
   "source": [
    "x = np.arange(10)\n",
    "y = np.ones(10)\n",
    "print x < 5\n",
    "print x < y"
   ]
  },
  {
   "cell_type": "code",
   "execution_count": 7,
   "metadata": {
    "collapsed": true
   },
   "outputs": [],
   "source": [
    "from scipy.spatial import distance"
   ]
  },
  {
   "cell_type": "code",
   "execution_count": 8,
   "metadata": {},
   "outputs": [
    {
     "name": "stdout",
     "output_type": "stream",
     "text": [
      "0.0\n",
      "1.0\n"
     ]
    }
   ],
   "source": [
    "print distance.cosine([67, 0], [89, 0])\n",
    "print distance.cosine([67, 0], [0, 89])"
   ]
  },
  {
   "cell_type": "code",
   "execution_count": 10,
   "metadata": {},
   "outputs": [
    {
     "name": "stdout",
     "output_type": "stream",
     "text": [
      "[-0.03774668  1.17013908 -1.11604913  1.32713218 -0.07644486]\n",
      "[-1.11604913 -0.07644486 -0.03774668  1.17013908  1.32713218]\n"
     ]
    }
   ],
   "source": [
    "x = scipy.randn(5)\n",
    "print x\n",
    "x.sort()\n",
    "print x"
   ]
  },
  {
   "cell_type": "code",
   "execution_count": 11,
   "metadata": {},
   "outputs": [
    {
     "name": "stdout",
     "output_type": "stream",
     "text": [
      "[-0.71859334  0.26801705 -0.69937183]\n",
      "[0 2 1]\n",
      "[-0.71859334 -0.69937183  0.26801705]\n"
     ]
    }
   ],
   "source": [
    "x = scipy.randn(3)\n",
    "print x\n",
    "ind = np.argsort(x)\n",
    "print ind\n",
    "print x[ind]"
   ]
  },
  {
   "cell_type": "code",
   "execution_count": null,
   "metadata": {
    "collapsed": true
   },
   "outputs": [],
   "source": []
  }
 ],
 "metadata": {
  "kernelspec": {
   "display_name": "Python 2",
   "language": "python",
   "name": "python2"
  },
  "language_info": {
   "codemirror_mode": {
    "name": "ipython",
    "version": 2
   },
   "file_extension": ".py",
   "mimetype": "text/x-python",
   "name": "python",
   "nbconvert_exporter": "python",
   "pygments_lexer": "ipython2",
   "version": "2.7.13"
  }
 },
 "nbformat": 4,
 "nbformat_minor": 2
}
